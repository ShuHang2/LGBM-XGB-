{
 "cells": [
  {
   "cell_type": "code",
   "execution_count": 1,
   "metadata": {},
   "outputs": [],
   "source": [
    "# import lib\n",
    "import pandas as pd\n",
    "import numpy as np\n",
    "\n",
    "# read csv and delete RainTomorrow rows with empty\n",
    "train = pd.read_csv(\"./data/train.csv\")\n",
    "test = pd.read_csv(\"./data/test.csv\")"
   ]
  },
  {
   "cell_type": "code",
   "execution_count": 2,
   "metadata": {},
   "outputs": [
    {
     "name": "stdout",
     "output_type": "stream",
     "text": [
      "id                0.000000\n",
      "Date              0.000000\n",
      "Location          0.000000\n",
      "MinTemp           1.014516\n",
      "MaxTemp           0.872110\n",
      "Rainfall          2.203846\n",
      "Evaporation      43.002495\n",
      "Sunshine         47.851152\n",
      "WindGustDir       7.054468\n",
      "WindGustSpeed     7.011255\n",
      "WindDir9am        7.280352\n",
      "WindDir3pm        2.898195\n",
      "WindSpeed9am      1.203080\n",
      "WindSpeed3pm      2.107600\n",
      "Humidity9am       1.830646\n",
      "Humidity3pm       3.132918\n",
      "Pressure9am      10.340594\n",
      "Pressure3pm      10.321934\n",
      "Cloud9am         38.320795\n",
      "Cloud3pm         40.732848\n",
      "Temp9am           1.222722\n",
      "Temp3pm           2.516156\n",
      "RainToday         2.203846\n",
      "RainTomorrow      2.250005\n",
      "dtype: float64\n"
     ]
    }
   ],
   "source": [
    "import pandas as pd\n",
    "\n",
    "def missing_value_percent(train):\n",
    "    missing_values_count = train.isnull().sum()\n",
    "    total_values = train.shape[0]\n",
    "    missing_values_percentage = (missing_values_count / total_values) * 100\n",
    "    print(missing_values_percentage)\n",
    "\n",
    "missing_value_percent(train)"
   ]
  },
  {
   "cell_type": "code",
   "execution_count": 3,
   "metadata": {},
   "outputs": [],
   "source": [
    "# columns_miss = [\n",
    "#     \"WindGustSpeed\",\n",
    "#     \"WindSpeed9am\",\n",
    "#     \"WindSpeed3pm\",\n",
    "#     \"Humidity9am\",\n",
    "#     \"Humidity3pm\",\n",
    "#     \"Pressure9am\",\n",
    "#     \"Pressure3pm\",\n",
    "#     \"Temp9am\",\n",
    "#     \"Temp3pm\",\n",
    "#     \"MinTemp\",\n",
    "#     \"MaxTemp\",\n",
    "#     \"Rainfall\"\n",
    "# ]\n",
    "\n",
    "# for column in columns_miss:\n",
    "#     train[column] = train[column].interpolate(method=\"linear\")"
   ]
  },
  {
   "cell_type": "code",
   "execution_count": 4,
   "metadata": {},
   "outputs": [
    {
     "name": "stdout",
     "output_type": "stream",
     "text": [
      "id                0.000000\n",
      "Date              0.000000\n",
      "Location          0.000000\n",
      "MinTemp           1.014516\n",
      "MaxTemp           0.872110\n",
      "Rainfall          2.203846\n",
      "Evaporation      43.002495\n",
      "Sunshine         47.851152\n",
      "WindGustDir       7.054468\n",
      "WindGustSpeed     7.011255\n",
      "WindDir9am        7.280352\n",
      "WindDir3pm        2.898195\n",
      "WindSpeed9am      1.203080\n",
      "WindSpeed3pm      2.107600\n",
      "Humidity9am       1.830646\n",
      "Humidity3pm       3.132918\n",
      "Pressure9am      10.340594\n",
      "Pressure3pm      10.321934\n",
      "Cloud9am         38.320795\n",
      "Cloud3pm         40.732848\n",
      "Temp9am           1.222722\n",
      "Temp3pm           2.516156\n",
      "RainToday         0.000000\n",
      "RainTomorrow      0.000000\n",
      "dtype: float64\n"
     ]
    }
   ],
   "source": [
    "columns_miss_object = [\"RainToday\", \"RainTomorrow\"]\n",
    "\n",
    "for column in columns_miss_object:\n",
    "    train[column] = train[column].ffill().bfill()\n",
    "\n",
    "missing_value_percent(train)"
   ]
  },
  {
   "cell_type": "code",
   "execution_count": 5,
   "metadata": {},
   "outputs": [],
   "source": [
    "# union and cherk object and null data\n",
    "xy_all = pd.concat([train, test], axis=0)\n",
    "cat_features = [\n",
    "    \"Date\",\n",
    "    \"Location\",\n",
    "    \n",
    "    \"WindGustDir\",\n",
    "    \"WindDir9am\",\n",
    "    \"WindDir3pm\",\n",
    "\n",
    "    \"RainToday\",\n",
    "    \"RainTomorrow\",\n",
    "\n",
    "    \"Evaporation\",\n",
    "    \"Sunshine\",\n",
    "    \"Cloud9am\",\n",
    "    \"Cloud3pm\",\n",
    "]"
   ]
  },
  {
   "cell_type": "code",
   "execution_count": 6,
   "metadata": {},
   "outputs": [
    {
     "name": "stdout",
     "output_type": "stream",
     "text": [
      "xy_all size: (145460, 24)\n"
     ]
    }
   ],
   "source": [
    "# processing value\n",
    "# object(string) type to in32, NAN and missing value to -1\n",
    "from sklearn.preprocessing import OrdinalEncoder\n",
    "\n",
    "ordinal_encoder = OrdinalEncoder(\n",
    "    dtype=np.int32,\n",
    "    handle_unknown=\"use_encoded_value\",\n",
    "    unknown_value=-1,\n",
    "    encoded_missing_value=-1,\n",
    ").set_output(transform=\"pandas\")\n",
    "\n",
    "xy_all[cat_features] = ordinal_encoder.fit_transform(xy_all[cat_features])\n",
    "print(\"xy_all size:\", xy_all.shape)"
   ]
  },
  {
   "cell_type": "code",
   "execution_count": 7,
   "metadata": {},
   "outputs": [],
   "source": [
    "# Split\n",
    "# RainTomorrow with -1 is x_test\n",
    "# RainTomorrow without -1 is xy_train\n",
    "\n",
    "xy_train = xy_all[xy_all[\"RainTomorrow\"] != -1]\n",
    "x_train = xy_train.drop(columns=[\"RainTomorrow\"])\n",
    "y_train = xy_train[\"RainTomorrow\"]\n",
    "x_test = xy_all[xy_all[\"RainTomorrow\"] == -1].drop(columns=\"RainTomorrow\")"
   ]
  },
  {
   "cell_type": "code",
   "execution_count": 8,
   "metadata": {},
   "outputs": [],
   "source": [
    "param = {\n",
    "    \"subsample\": 0.9631662121183732,\n",
    "    \"reg_lambda\": 0.06993883748486984,\n",
    "    \"reg_alpha\": 0.42445602287772566,\n",
    "    \"n_estimators\": 495,\n",
    "    \"max_depth\": 8,\n",
    "    \"learning_rate\": 0.03984212824100648,\n",
    "    \"colsample_bytree\": 0.6368624805550515,\n",
    "}"
   ]
  },
  {
   "cell_type": "code",
   "execution_count": 9,
   "metadata": {},
   "outputs": [],
   "source": [
    "# set model\n",
    "import xgboost as xgb\n",
    "\n",
    "model = xgb.XGBRegressor(**param)\n",
    "\n",
    "# train\n",
    "model.fit(x_train, y_train)\n",
    "\n",
    "# pred\n",
    "y_xgb_pred = model.predict(x_test)"
   ]
  },
  {
   "cell_type": "code",
   "execution_count": 10,
   "metadata": {},
   "outputs": [],
   "source": [
    "y_pred_str = np.where(y_xgb_pred > 0.5, \"Yes\", \"No\")\n",
    "# save .csv\n",
    "pd.DataFrame({\"id\": x_test[\"id\"], \"RainTomorrow\": y_pred_str}).to_csv(\n",
    "    \"./output/XGB.csv\", index=False\n",
    ")"
   ]
  }
 ],
 "metadata": {
  "kernelspec": {
   "display_name": "xgb",
   "language": "python",
   "name": "python3"
  },
  "language_info": {
   "codemirror_mode": {
    "name": "ipython",
    "version": 3
   },
   "file_extension": ".py",
   "mimetype": "text/x-python",
   "name": "python",
   "nbconvert_exporter": "python",
   "pygments_lexer": "ipython3",
   "version": "3.9.0"
  }
 },
 "nbformat": 4,
 "nbformat_minor": 2
}
