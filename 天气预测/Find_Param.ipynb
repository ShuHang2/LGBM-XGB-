{
 "cells": [
  {
   "cell_type": "markdown",
   "metadata": {},
   "source": [
    "Find Param\n",
    "\n",
    "通过随机算法，寻找LightGBM和XGBoost的参数"
   ]
  },
  {
   "cell_type": "code",
   "execution_count": 19,
   "metadata": {},
   "outputs": [],
   "source": [
    "# 预处理\n",
    "from sklearn.preprocessing import OrdinalEncoder\n",
    "import pandas as pd\n",
    "import numpy as np\n",
    "\n",
    "all = pd.read_csv(\"./data/train.csv\")\n",
    "all = all.dropna(subset=[\"RainTomorrow\"])\n",
    "\n",
    "columns_miss_object = [\"RainToday\", \"RainTomorrow\"]\n",
    "\n",
    "for column in columns_miss_object:\n",
    "    all[column] = all[column].ffill().bfill()\n",
    "\n",
    "cat_features = [\n",
    "    \"Date\",\n",
    "    \"Location\",\n",
    "    \"WindGustDir\",\n",
    "    \"WindDir9am\",\n",
    "    \"WindDir3pm\",\n",
    "    \"RainToday\",\n",
    "    \"RainTomorrow\",\n",
    "    \"Evaporation\",\n",
    "    \"Sunshine\",\n",
    "    \"Cloud9am\",\n",
    "    \"Cloud3pm\",\n",
    "]\n",
    "ordinal_encoder = OrdinalEncoder(\n",
    "    dtype=np.int32,\n",
    "    handle_unknown=\"use_encoded_value\",\n",
    "    unknown_value=-1,\n",
    "    encoded_missing_value=-1,\n",
    ").set_output(transform=\"pandas\")\n",
    "\n",
    "all[cat_features] = ordinal_encoder.fit_transform(all[cat_features])\n",
    "X = all.drop(columns=[\"RainTomorrow\"])\n",
    "y = all[\"RainTomorrow\"]"
   ]
  },
  {
   "cell_type": "code",
   "execution_count": 20,
   "metadata": {},
   "outputs": [],
   "source": [
    "# spilit dataset\n",
    "from sklearn.model_selection import train_test_split\n",
    "X_train, X_test, y_train, y_test = train_test_split(\n",
    "    X, y, test_size=0.2, random_state=42\n",
    ")"
   ]
  },
  {
   "cell_type": "code",
   "execution_count": 21,
   "metadata": {},
   "outputs": [],
   "source": [
    "# # find params\n",
    "# import lightgbm as lgb\n",
    "# from sklearn.model_selection import RandomizedSearchCV\n",
    "\n",
    "# param = {\n",
    "#     \"num_leaves\": np.random.randint(64, 150, size=10),\n",
    "#     \"learning_rate\": np.random.uniform(0.001, 0.1, size=10),\n",
    "#     \"reg_alpha\": np.random.uniform(0.5, 1.0, size=10),\n",
    "#     \"reg_lambda\": np.random.uniform(0.0, 0.5, size=10),\n",
    "#     \"n_estimators\": np.random.randint(100, 200, size=10),\n",
    "#     \"min_child_samples\": np.random.randint(60, 120, size=10),\n",
    "#     \"subsample\": np.random.uniform(0.8, 1.2, size=10), \n",
    "#     \"colsample_bytree\": np.random.uniform(0.6, 1.0, size=10),\n",
    "# }\n",
    "\n",
    "# model = lgb.LGBMRegressor(verbosity=0)"
   ]
  },
  {
   "cell_type": "code",
   "execution_count": 22,
   "metadata": {},
   "outputs": [],
   "source": [
    "# 随机查找\n",
    "import xgboost as xgb\n",
    "from sklearn.model_selection import RandomizedSearchCV\n",
    "\n",
    "param = {\n",
    "    \"learning_rate\": np.random.uniform(0.01, 0.1, size=10),\n",
    "    \"reg_alpha\": np.random.uniform(0.5, 1, size=10),\n",
    "    \"reg_lambda\": np.random.uniform(0.1, 0.2, size=10),\n",
    "    \"n_estimators\": np.random.randint(200, 400, size=10),\n",
    "    \"subsample\": np.random.uniform(0.6, 0.8, size=10),\n",
    "    \"colsample_bytree\": np.random.uniform(0.6, 1.0, size=10),\n",
    "    \"max_depth\": np.random.randint(5, 10, size=10),\n",
    "}\n",
    "\n",
    "model = xgb.XGBRegressor(booster=\"gbtree\",verbosity=0)"
   ]
  },
  {
   "cell_type": "code",
   "execution_count": 23,
   "metadata": {},
   "outputs": [
    {
     "name": "stdout",
     "output_type": "stream",
     "text": [
      "Best Parameters: {'subsample': 0.6245374117658219, 'reg_lambda': 0.1556072714142416, 'reg_alpha': 0.993476368183754, 'n_estimators': 347, 'max_depth': 6, 'learning_rate': 0.051759029191354194, 'colsample_bytree': 0.9492330511297755}\n",
      "Best score (neg_root_mean_squared_error):  -0.09934863128950841\n"
     ]
    }
   ],
   "source": [
    "# 负平方根\n",
    "random_search = RandomizedSearchCV(\n",
    "    model, param, n_iter=10, cv=5, scoring=\"neg_mean_squared_error\"\n",
    ")\n",
    "\n",
    "random_search.fit(X_train, y_train)\n",
    "\n",
    "print(\"Best Parameters:\", random_search.best_params_)\n",
    "best_score = random_search.best_score_\n",
    "print(\"Best score (neg_root_mean_squared_error): \", best_score)"
   ]
  }
 ],
 "metadata": {
  "kernelspec": {
   "display_name": "lgbm",
   "language": "python",
   "name": "python3"
  },
  "language_info": {
   "codemirror_mode": {
    "name": "ipython",
    "version": 3
   },
   "file_extension": ".py",
   "mimetype": "text/x-python",
   "name": "python",
   "nbconvert_exporter": "python",
   "pygments_lexer": "ipython3",
   "version": "3.9.0"
  }
 },
 "nbformat": 4,
 "nbformat_minor": 2
}
