{
 "cells": [
  {
   "cell_type": "code",
   "execution_count": 1,
   "metadata": {},
   "outputs": [],
   "source": [
    "# import lib\n",
    "import pandas as pd\n",
    "from sklearn.preprocessing import LabelEncoder"
   ]
  },
  {
   "cell_type": "code",
   "execution_count": 2,
   "metadata": {},
   "outputs": [],
   "source": [
    "# load dataset\n",
    "train = pd.read_csv(\"./data/train.csv\")\n",
    "test = pd.read_csv(\"./data/test.csv\")"
   ]
  },
  {
   "cell_type": "code",
   "execution_count": 3,
   "metadata": {},
   "outputs": [],
   "source": [
    "# spilit dataset\n",
    "X_train = train.drop([\"Id\",\"SalePrice\"], axis=1)\n",
    "X_test = test.drop(\"Id\", axis=1)\n",
    "y_train = train[\"SalePrice\"]\n",
    "\n",
    "le = LabelEncoder()\n",
    "for col in X_test.columns:\n",
    "    X_train[col] = le.fit_transform(X_train[col])"
   ]
  },
  {
   "cell_type": "code",
   "execution_count": null,
   "metadata": {},
   "outputs": [],
   "source": [
    "# 标准化\n",
    "from sklearn.preprocessing import StandardScaler\n",
    "\n",
    "scaler = StandardScaler()\n",
    "X_train = scaler.fit_transform(X_train)\n",
    "X_test = scaler.transform(X_test)"
   ]
  },
  {
   "cell_type": "code",
   "execution_count": null,
   "metadata": {},
   "outputs": [],
   "source": [
    "# 初始化SVM模型\n",
    "from sklearn.linear_model import LinearRegression\n",
    "lr = LinearRegression()"
   ]
  },
  {
   "cell_type": "code",
   "execution_count": null,
   "metadata": {},
   "outputs": [
    {
     "data": {
      "text/plain": [
       "LinearRegression()"
      ]
     },
     "execution_count": 4,
     "metadata": {},
     "output_type": "execute_result"
    }
   ],
   "source": [
    "# 训练模型\n",
    "lr.fit(X_train, y_train)"
   ]
  },
  {
   "cell_type": "code",
   "execution_count": null,
   "metadata": {},
   "outputs": [
    {
     "name": "stdout",
     "output_type": "stream",
     "text": [
      "        Id      SalePrice\n",
      "0     1461  124419.315042\n",
      "1     1462  169776.356414\n",
      "2     1463  190263.786813\n",
      "3     1464  199654.739328\n",
      "4     1465  198187.249786\n",
      "...    ...            ...\n",
      "1454  2915   84554.965557\n",
      "1455  2916   72365.387386\n",
      "1456  2917  189257.271936\n",
      "1457  2918  124475.163825\n",
      "1458  2919  267889.862055\n",
      "\n",
      "[1459 rows x 2 columns]\n"
     ]
    }
   ],
   "source": [
    "# 预测并评估模型\n",
    "y_pred = lr.predict(X_test)\n",
    "y_pred = y_pred.tolist()\n",
    "id = test.iloc[:, 0].tolist()\n",
    "\n",
    "save = df = pd.DataFrame({\n",
    "    \"Id\":id,\n",
    "    \"SalePrice\":y_pred\n",
    "})\n",
    "print(save)\n",
    "csv = pd.DataFrame(save)\n",
    "csv.to_csv(\"./att/linear_output.csv\", index=False)"
   ]
  }
 ],
 "metadata": {
  "kernelspec": {
   "display_name": "sklearn",
   "language": "python",
   "name": "python3"
  },
  "language_info": {
   "codemirror_mode": {
    "name": "ipython",
    "version": 3
   },
   "file_extension": ".py",
   "mimetype": "text/x-python",
   "name": "python",
   "nbconvert_exporter": "python",
   "pygments_lexer": "ipython3",
   "version": "3.9.0"
  }
 },
 "nbformat": 4,
 "nbformat_minor": 2
}
