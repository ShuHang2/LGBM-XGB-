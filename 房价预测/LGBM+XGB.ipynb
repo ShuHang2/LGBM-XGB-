{
 "cells": [
  {
   "cell_type": "code",
   "execution_count": null,
   "metadata": {},
   "outputs": [],
   "source": [
    "# import lib\n",
    "import pandas as pd\n",
    "import numpy as np\n",
    "\n",
    "# read csv\n",
    "xy_train = pd.read_csv(\"./data/train.csv\")\n",
    "x_test = pd.read_csv(\"./data/test.csv\")\n",
    "# union\n",
    "xy_all = pd.concat([xy_train, x_test], axis=0)\n",
    "cat_features = xy_all.columns[xy_all.dtypes == \"object\"]\n",
    "\n",
    "# progressing value\n",
    "# object(string) type to in32, NAN and missing value to -1\n",
    "from sklearn.preprocessing import OrdinalEncoder\n",
    "\n",
    "ordinal_encoder = OrdinalEncoder(\n",
    "    dtype=np.int32,\n",
    "    handle_unknown=\"use_encoded_value\",\n",
    "    unknown_value=-1,\n",
    "    encoded_missing_value=-1,\n",
    ").set_output(transform=\"pandas\")\n",
    "\n",
    "xy_all[cat_features] = ordinal_encoder.fit_transform(xy_all[cat_features])\n",
    "\n",
    "# Split\n",
    "# find the SalePrice is NAN\n",
    "xy_train = xy_all[~xy_all[\"SalePrice\"].isna()]\n",
    "\n",
    "x_test = xy_all[xy_all[\"SalePrice\"].isna()].drop(columns=\"SalePrice\")\n",
    "x_train = xy_train.drop(columns=[\"SalePrice\"])\n",
    "y_train = xy_train[\"SalePrice\"]"
   ]
  },
  {
   "cell_type": "code",
   "execution_count": null,
   "metadata": {},
   "outputs": [],
   "source": [
    "# set model\n",
    "import xgboost as xgb\n",
    "\n",
    "\n",
    "model = xgb.XGBRegressor(\n",
    "    colsample_bytree=0.2,\n",
    "    gamma=0.0,\n",
    "    learning_rate=0.05,\n",
    "    max_depth=6,\n",
    "    min_child_weight=1.5,\n",
    "    n_estimators=7200,\n",
    "    reg_alpha=0.9,\n",
    "    reg_lambda=0.6,\n",
    "    subsample=0.2,\n",
    "    seed=42,\n",
    "    random_state=7,\n",
    ")\n",
    "\n",
    "# train\n",
    "model.fit(x_train, y_train, verbose=False)\n",
    "\n",
    "# pred\n",
    "y_xgb_pred = model.predict(x_test)"
   ]
  },
  {
   "cell_type": "code",
   "execution_count": null,
   "metadata": {},
   "outputs": [],
   "source": [
    "# lightgbm model\n",
    "import lightgbm as lgb\n",
    "\n",
    "model = lgb.LGBMRegressor(\n",
    "    objective=\"regression\",\n",
    "    num_leaves=5,\n",
    "    learning_rate=0.05,\n",
    "    n_estimators=720,\n",
    "    max_bin=55,\n",
    "    bagging_fraction=0.8,\n",
    "    bagging_freq=5,\n",
    "    feature_fraction=0.2319,\n",
    "    feature_fraction_seed=9,\n",
    "    bagging_seed=9,\n",
    "    min_data_in_leaf=6,\n",
    "    min_sum_hessian_in_leaf=11,\n",
    ")\n",
    "# train\n",
    "model.fit(x_train, y_train)\n",
    "# predict\n",
    "y_lgbm_pred = model.predict(x_test)"
   ]
  },
  {
   "cell_type": "code",
   "execution_count": null,
   "metadata": {},
   "outputs": [],
   "source": [
    "y_pred = 0.7 * y_lgbm_pred + 0.3 * y_xgb_pred"
   ]
  },
  {
   "cell_type": "code",
   "execution_count": null,
   "metadata": {},
   "outputs": [],
   "source": [
    "# save .csv\n",
    "pd.DataFrame({\"Id\": x_test[\"Id\"], \"SalePrice\": y_pred}).to_csv(\n",
    "    \"./output/LGBM+XGB_output.csv\", index=False\n",
    ")"
   ]
  }
 ],
 "metadata": {
  "kernelspec": {
   "display_name": "lgbm",
   "language": "python",
   "name": "python3"
  },
  "language_info": {
   "codemirror_mode": {
    "name": "ipython",
    "version": 3
   },
   "file_extension": ".py",
   "mimetype": "text/x-python",
   "name": "python",
   "nbconvert_exporter": "python",
   "pygments_lexer": "ipython3",
   "version": "3.9.0"
  }
 },
 "nbformat": 4,
 "nbformat_minor": 2
}
